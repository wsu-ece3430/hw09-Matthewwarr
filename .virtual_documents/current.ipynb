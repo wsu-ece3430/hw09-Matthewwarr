





import numpy as np








# YOUR CODE HERE
raise NotImplementedError()


assert isinstance(p, float)






# YOUR CODE HERE
raise NotImplementedError()


assert isinstance(ans, float)






# YOUR CODE HERE
raise NotImplementedError()


assert isinstance(ans, float)






# YOUR CODE HERE
raise NotImplementedError()


assert isinstance(ans, float)






# YOUR CODE HERE
raise NotImplementedError()


assert isinstance(ans, float)




