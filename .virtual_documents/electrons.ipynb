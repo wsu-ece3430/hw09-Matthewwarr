





import numpy as np








def p_X(x):
    if x == 1:
        return 1/8
    elif x == 2:
        return 3/4
    elif x == 3:
        return 1/8
    else:
        return 0
    


assert isinstance(p_X(1), float)






def p_Y(y):
    if y == 1:
        return 1/8
    elif y == 2:
        return 3/4
    elif y == 3:
        return 1/8
    else:
        return 0


assert isinstance(p_Y(1), float)






ans = False


assert isinstance(ans, bool)






p = 5/6


assert isinstance(p, float)

