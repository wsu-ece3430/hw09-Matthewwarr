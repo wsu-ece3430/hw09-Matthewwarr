





import numpy as np








ans = -0.2


assert isinstance(ans, float)






N = 0.0


assert isinstance(ans, float)






ans = 0.0


assert isinstance(ans, float)






p = 0.1587


assert isinstance(p, float)

