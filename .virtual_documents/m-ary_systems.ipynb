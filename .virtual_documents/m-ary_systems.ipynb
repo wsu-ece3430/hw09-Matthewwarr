





import numpy as np








ans = {-2:0.21,-1:0.29,1:0.29,2:0.22}


assert isinstance(ans, dict)






ans = {-2:0.21,-1:0.29,1:0.29,2:0.22}


assert isinstance(ans, dict)






ans = False


assert isinstance(ans, bool)






p = 0.0455


assert isinstance(p, float)

